{
 "cells": [
  {
   "cell_type": "code",
   "execution_count": 7,
   "id": "f9a24037-96d8-458a-b101-ae58a728d023",
   "metadata": {},
   "outputs": [
    {
     "ename": "ValueError",
     "evalue": "operands could not be broadcast together with shapes (10,) (3,) ",
     "output_type": "error",
     "traceback": [
      "\u001b[0;31m---------------------------------------------------------------------------\u001b[0m",
      "\u001b[0;31mValueError\u001b[0m                                Traceback (most recent call last)",
      "Cell \u001b[0;32mIn[7], line 27\u001b[0m\n\u001b[1;32m     24\u001b[0m tiempo_espera_en_caja \u001b[38;5;241m=\u001b[39m llegadas \u001b[38;5;241m-\u001b[39m np\u001b[38;5;241m.\u001b[39mmin(tiempo_uso_caja, axis\u001b[38;5;241m=\u001b[39m\u001b[38;5;241m0\u001b[39m)\n\u001b[1;32m     26\u001b[0m \u001b[38;5;66;03m# Tiempo de uso total\u001b[39;00m\n\u001b[0;32m---> 27\u001b[0m tiempo_uso_total \u001b[38;5;241m=\u001b[39m \u001b[43mnp\u001b[49m\u001b[38;5;241;43m.\u001b[39;49m\u001b[43madd\u001b[49m\u001b[43m(\u001b[49m\u001b[43mtiempo_espera_en_caja\u001b[49m\u001b[43m,\u001b[49m\u001b[43m \u001b[49m\u001b[43mtiempo_uso_caja\u001b[49m\u001b[43m)\u001b[49m\n\u001b[1;32m     29\u001b[0m \u001b[38;5;66;03m# Caja elegida por el cliente\u001b[39;00m\n\u001b[1;32m     30\u001b[0m \u001b[38;5;66;03m# (Usa un bucle for para mejorar la claridad)\u001b[39;00m\n\u001b[1;32m     31\u001b[0m \u001b[38;5;28;01mfor\u001b[39;00m i, llegada \u001b[38;5;129;01min\u001b[39;00m \u001b[38;5;28menumerate\u001b[39m(llegadas):\n",
      "\u001b[0;31mValueError\u001b[0m: operands could not be broadcast together with shapes (10,) (3,) "
     ]
    }
   ],
   "source": [
    "import numpy as np\n",
    "import matplotlib.pyplot as plt\n",
    "\n",
    "# Parámetros\n",
    "n = 10  # Número de clientes\n",
    "k = 3  # Número de cajas\n",
    "mu1 = 3  # Media de distribución de llegadas de clientes\n",
    "mu2 = 5  # Media de distribución de tiempo de uso en caja\n",
    "sigma2 = 3  # Desviación estándar de distribución de tiempo de uso en caja\n",
    "p = 0.4  # Probabilidad de pagar en efectivo\n",
    "\n",
    "# Genera llegadas de clientes (usando distribución de Poisson)\n",
    "llegadas = np.random.poisson(mu1, n)\n",
    "\n",
    "# Tiempo de uso de la caja\n",
    "tiempo_uso_caja = [max(np.random.normal(mu2, sigma2), 0) for _ in range(k)]\n",
    "\n",
    "# Tiempo de espera en la fila\n",
    "# (Usa listas de comprensión para mejorar la eficiencia)\n",
    "tiempo_espera_fila = [max(tiempo_libre_caja or 0, llegada) - llegada for llegada, tiempo_libre_caja in zip(llegadas, tiempo_uso_caja)]\n",
    "\n",
    "# Tiempo de espera en la caja\n",
    "# (Usa operaciones vectorizadas para mejorar la eficiencia)\n",
    "tiempo_espera_en_caja = llegadas - np.min(tiempo_uso_caja, axis=0)\n",
    "\n",
    "# Tiempo de uso total\n",
    "tiempo_uso_total = np.add(tiempo_espera_en_caja, tiempo_uso_caja)\n",
    "\n",
    "# Caja elegida por el cliente\n",
    "# (Usa un bucle for para mejorar la claridad)\n",
    "for i, llegada in enumerate(llegadas):\n",
    "    caja_elegida = 0\n",
    "    for j in range(k):\n",
    "        if tiempo_libre_caja[j] < tiempo_libre_caja[caja_elegida]:\n",
    "            caja_elegida = j\n",
    "    tiempo_espera_fila[i] = max(0, tiempo_libre_caja[caja_elegida] - llegada)\n",
    "\n",
    "# Resultados\n",
    "# (Agrega comentarios para mejorar la comprensión)\n",
    "print(\"Longitud de llegadas:\", len(llegadas))\n",
    "print(\"Longitud de tiempo_espera_fila:\", len(tiempo_espera_fila))\n",
    "print(\"Longitud de tiempo_espera_en_caja:\", len(tiempo_espera_en_caja))\n",
    "print(\"Longitud de tiempo_uso_total:\", len(tiempo_uso_total))\n",
    "\n",
    "# Gráficos\n",
    "def graficoCajas():\n",
    "    plt.figure(figsize=(10, 6))\n",
    "    plt.plot(tiempo_uso_caja[0], label='Caja 1')\n",
    "    plt.plot(tiempo_uso_caja[1], label='Caja 2')\n",
    "    plt.plot(tiempo_uso_caja[2], label='Caja 3')\n",
    "    plt.title('Tiempo de uso de cada caja')\n",
    "    plt.xlabel('Clientes')\n",
    "    plt.ylabel('Tiempo de uso')\n",
    "    plt.legend()\n",
    "    plt.show()\n",
    "\n",
    "def graficoEsperaClientes():\n",
    "    plt.figure(figsize=(10, 6))\n",
    "    plt.bar(indices, tiempo_espera_fila, color='orange', label='Tiempo de espera en la fila')\n",
    "    plt.title('Tiempo de espera de cada cliente en la fila')\n",
    "    plt.xlabel('Clientes')\n",
    "    plt.ylabel('Tiempo de espera')\n",
    "    plt.legend()\n",
    "    plt.show()\n",
    "\n",
    "if __name__ == \"__main__\":\n",
    "    graficoCajas()\n",
    "    graficoEsperaClientes()"
   ]
  },
  {
   "cell_type": "code",
   "execution_count": null,
   "id": "59cd8445-b617-4f90-94e6-7c5e768475eb",
   "metadata": {},
   "outputs": [],
   "source": []
  },
  {
   "cell_type": "code",
   "execution_count": null,
   "id": "27e3e92f-7018-42df-82b7-e3e7f628fa43",
   "metadata": {},
   "outputs": [],
   "source": []
  }
 ],
 "metadata": {
  "kernelspec": {
   "display_name": "Python 3 (ipykernel)",
   "language": "python",
   "name": "python3"
  },
  "language_info": {
   "codemirror_mode": {
    "name": "ipython",
    "version": 3
   },
   "file_extension": ".py",
   "mimetype": "text/x-python",
   "name": "python",
   "nbconvert_exporter": "python",
   "pygments_lexer": "ipython3",
   "version": "3.8.10"
  }
 },
 "nbformat": 4,
 "nbformat_minor": 5
}
